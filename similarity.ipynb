{
 "cells": [
  {
   "cell_type": "code",
   "execution_count": 2,
   "metadata": {
    "collapsed": false
   },
   "outputs": [
    {
     "name": "stdout",
     "output_type": "stream",
     "text": [
      "This non-commercial license of GraphLab Create for academic use is assigned to mfrancod@uci.edu and will expire on July 23, 2018.\n"
     ]
    },
    {
     "name": "stderr",
     "output_type": "stream",
     "text": [
      "[INFO] graphlab.cython.cy_server: GraphLab Create v2.1 started. Logging: /tmp/graphlab_server_1525328789.log\n"
     ]
    }
   ],
   "source": [
    "import pandas as pd\n",
    "import graphlab\n",
    "%matplotlib inline"
   ]
  },
  {
   "cell_type": "code",
   "execution_count": 19,
   "metadata": {
    "collapsed": false
   },
   "outputs": [
    {
     "name": "stdout",
     "output_type": "stream",
     "text": [
      "('dimensions of df:', 334216, 14)\n",
      "('for training we use :', 267372)\n",
      "('for test: ', 66844)\n",
      "((267372, 14), (66844, 14))\n",
      "+---------------------+-------------------------------+\n",
      "|        I_DATE       |          USER_ID_hash         |\n",
      "+---------------------+-------------------------------+\n",
      "| 2012-03-28 15:06:06 | d9dca3cb44bab12ba313eaa681... |\n",
      "| 2012-03-28 15:06:06 | d9dca3cb44bab12ba313eaa681... |\n",
      "| 2012-03-26 23:26:24 | dd8a79645e8170db6a91bad1d8... |\n",
      "| 2012-03-26 23:26:24 | dd8a79645e8170db6a91bad1d8... |\n",
      "| 2011-11-12 15:09:53 | dd8a79645e8170db6a91bad1d8... |\n",
      "| 2011-11-12 15:09:53 | dd8a79645e8170db6a91bad1d8... |\n",
      "| 2012-04-09 22:49:16 | dd8a79645e8170db6a91bad1d8... |\n",
      "| 2012-04-09 22:49:16 | dd8a79645e8170db6a91bad1d8... |\n",
      "| 2012-05-16 21:18:39 | dd8a79645e8170db6a91bad1d8... |\n",
      "| 2012-05-16 21:18:39 | dd8a79645e8170db6a91bad1d8... |\n",
      "+---------------------+-------------------------------+\n",
      "+-------------------------------+------------------+------------+-------------+\n",
      "|         COUPON_ID_hash        | CAPSULE_TEXT_en  | DISPPERIOD | VALIDPERIOD |\n",
      "+-------------------------------+------------------+------------+-------------+\n",
      "| 34c48f84026e08355dc3bd19b4... | Delivery service |     4      |      0      |\n",
      "| 34c48f84026e08355dc3bd19b4... | Delivery service |     4      |      0      |\n",
      "| 34c48f84026e08355dc3bd19b4... | Delivery service |     4      |      0      |\n",
      "| 34c48f84026e08355dc3bd19b4... | Delivery service |     4      |      0      |\n",
      "| a262c7ff56a5cd3de3c5c40443... |      Other       |     36     |      67     |\n",
      "| a262c7ff56a5cd3de3c5c40443... |      Other       |     36     |      67     |\n",
      "| d67458c7b879ea458e4b2fe2fd... |    Gift card     |     5      |      0      |\n",
      "| d67458c7b879ea458e4b2fe2fd... |    Gift card     |     5      |      0      |\n",
      "| 3e3eac3c3d75bf660d65dfe349... | Delivery service |     4      |      0      |\n",
      "| 3e3eac3c3d75bf660d65dfe349... | Delivery service |     4      |      0      |\n",
      "+-------------------------------+------------------+------------+-------------+\n",
      "+--------------------+-------------------+-------------------------------+-------+\n",
      "| large_area_name_en |    ken_name_en    |       small_area_name_en      | PRICE |\n",
      "+--------------------+-------------------+-------------------------------+-------+\n",
      "|       Kanto        |       Tokyo       | Shinjuku, Takadanobaba Nak... |  2019 |\n",
      "|       Kanto        |       Tokyo       | Shinjuku, Takadanobaba Nak... |  2019 |\n",
      "|       Kanto        |       Tokyo       | Shinjuku, Takadanobaba Nak... |  2019 |\n",
      "|       Kanto        |       Tokyo       | Shinjuku, Takadanobaba Nak... |  2019 |\n",
      "|       Kanto        |       Tokyo       | Shinjuku, Takadanobaba Nak... |  125  |\n",
      "|       Kanto        |       Tokyo       | Shinjuku, Takadanobaba Nak... |  125  |\n",
      "|       Kansai       |  Osaka prefecture |          Minami other         |  1515 |\n",
      "|       Kansai       |  Osaka prefecture |          Minami other         |  1515 |\n",
      "|    Hokushinetsu    | Nagano Prefecture |             Nagano            |  3300 |\n",
      "|    Hokushinetsu    | Nagano Prefecture |             Nagano            |  3300 |\n",
      "+--------------------+-------------------+-------------------------------+-------+\n",
      "+------+---------------+--------+-----+\n",
      "| TIME | PURCHASE_FLAG | SEX_ID | AGE |\n",
      "+------+---------------+--------+-----+\n",
      "|  0   |       0       |   f    |  25 |\n",
      "|  0   |       1       |   f    |  25 |\n",
      "|  0   |       0       |   f    |  49 |\n",
      "|  0   |       1       |   f    |  49 |\n",
      "|  0   |       0       |   f    |  49 |\n",
      "|  0   |       1       |   f    |  49 |\n",
      "|  0   |       1       |   f    |  49 |\n",
      "|  0   |       0       |   f    |  49 |\n",
      "|  0   |       0       |   f    |  49 |\n",
      "|  0   |       1       |   f    |  49 |\n",
      "+------+---------------+--------+-----+\n",
      "[10 rows x 14 columns]\n",
      "\n"
     ]
    },
    {
     "data": {
      "text/html": [
       "<pre>Recsys training: model = item_similarity</pre>"
      ],
      "text/plain": [
       "Recsys training: model = item_similarity"
      ]
     },
     "metadata": {},
     "output_type": "display_data"
    },
    {
     "data": {
      "text/html": [
       "<pre>Warning: Ignoring columns I_DATE, CAPSULE_TEXT_en, DISPPERIOD, VALIDPERIOD, large_area_name_en, ken_name_en, small_area_name_en, PRICE, TIME, PURCHASE_FLAG, SEX_ID, AGE;</pre>"
      ],
      "text/plain": [
       "Warning: Ignoring columns I_DATE, CAPSULE_TEXT_en, DISPPERIOD, VALIDPERIOD, large_area_name_en, ken_name_en, small_area_name_en, PRICE, TIME, PURCHASE_FLAG, SEX_ID, AGE;"
      ]
     },
     "metadata": {},
     "output_type": "display_data"
    },
    {
     "data": {
      "text/html": [
       "<pre>    To use one of these as a target column, set target = <column_name></pre>"
      ],
      "text/plain": [
       "    To use one of these as a target column, set target = <column_name>"
      ]
     },
     "metadata": {},
     "output_type": "display_data"
    },
    {
     "data": {
      "text/html": [
       "<pre>    and use a method that allows the use of a target.</pre>"
      ],
      "text/plain": [
       "    and use a method that allows the use of a target."
      ]
     },
     "metadata": {},
     "output_type": "display_data"
    },
    {
     "data": {
      "text/html": [
       "<pre>Preparing data set.</pre>"
      ],
      "text/plain": [
       "Preparing data set."
      ]
     },
     "metadata": {},
     "output_type": "display_data"
    },
    {
     "data": {
      "text/html": [
       "<pre>    Data has 267372 observations with 12284 users and 17393 items.</pre>"
      ],
      "text/plain": [
       "    Data has 267372 observations with 12284 users and 17393 items."
      ]
     },
     "metadata": {},
     "output_type": "display_data"
    },
    {
     "data": {
      "text/html": [
       "<pre>    Data prepared in: 0.561962s</pre>"
      ],
      "text/plain": [
       "    Data prepared in: 0.561962s"
      ]
     },
     "metadata": {},
     "output_type": "display_data"
    },
    {
     "data": {
      "text/html": [
       "<pre>Training model from provided data.</pre>"
      ],
      "text/plain": [
       "Training model from provided data."
      ]
     },
     "metadata": {},
     "output_type": "display_data"
    },
    {
     "data": {
      "text/html": [
       "<pre>Gathering per-item and per-user statistics.</pre>"
      ],
      "text/plain": [
       "Gathering per-item and per-user statistics."
      ]
     },
     "metadata": {},
     "output_type": "display_data"
    },
    {
     "data": {
      "text/html": [
       "<pre>+--------------------------------+------------+</pre>"
      ],
      "text/plain": [
       "+--------------------------------+------------+"
      ]
     },
     "metadata": {},
     "output_type": "display_data"
    },
    {
     "data": {
      "text/html": [
       "<pre>| Elapsed Time (Item Statistics) | % Complete |</pre>"
      ],
      "text/plain": [
       "| Elapsed Time (Item Statistics) | % Complete |"
      ]
     },
     "metadata": {},
     "output_type": "display_data"
    },
    {
     "data": {
      "text/html": [
       "<pre>+--------------------------------+------------+</pre>"
      ],
      "text/plain": [
       "+--------------------------------+------------+"
      ]
     },
     "metadata": {},
     "output_type": "display_data"
    },
    {
     "data": {
      "text/html": [
       "<pre>| 5.136ms                        | 24.25      |</pre>"
      ],
      "text/plain": [
       "| 5.136ms                        | 24.25      |"
      ]
     },
     "metadata": {},
     "output_type": "display_data"
    },
    {
     "data": {
      "text/html": [
       "<pre>| 11.819ms                       | 100        |</pre>"
      ],
      "text/plain": [
       "| 11.819ms                       | 100        |"
      ]
     },
     "metadata": {},
     "output_type": "display_data"
    },
    {
     "data": {
      "text/html": [
       "<pre>+--------------------------------+------------+</pre>"
      ],
      "text/plain": [
       "+--------------------------------+------------+"
      ]
     },
     "metadata": {},
     "output_type": "display_data"
    },
    {
     "data": {
      "text/html": [
       "<pre>Setting up lookup tables.</pre>"
      ],
      "text/plain": [
       "Setting up lookup tables."
      ]
     },
     "metadata": {},
     "output_type": "display_data"
    },
    {
     "data": {
      "text/html": [
       "<pre>Processing data in one pass using dense lookup tables.</pre>"
      ],
      "text/plain": [
       "Processing data in one pass using dense lookup tables."
      ]
     },
     "metadata": {},
     "output_type": "display_data"
    },
    {
     "data": {
      "text/html": [
       "<pre>+-------------------------------------+------------------+-----------------+</pre>"
      ],
      "text/plain": [
       "+-------------------------------------+------------------+-----------------+"
      ]
     },
     "metadata": {},
     "output_type": "display_data"
    },
    {
     "data": {
      "text/html": [
       "<pre>| Elapsed Time (Constructing Lookups) | Total % Complete | Items Processed |</pre>"
      ],
      "text/plain": [
       "| Elapsed Time (Constructing Lookups) | Total % Complete | Items Processed |"
      ]
     },
     "metadata": {},
     "output_type": "display_data"
    },
    {
     "data": {
      "text/html": [
       "<pre>+-------------------------------------+------------------+-----------------+</pre>"
      ],
      "text/plain": [
       "+-------------------------------------+------------------+-----------------+"
      ]
     },
     "metadata": {},
     "output_type": "display_data"
    },
    {
     "data": {
      "text/html": [
       "<pre>| 598.744ms                           | 0                | 0               |</pre>"
      ],
      "text/plain": [
       "| 598.744ms                           | 0                | 0               |"
      ]
     },
     "metadata": {},
     "output_type": "display_data"
    },
    {
     "data": {
      "text/html": [
       "<pre>| 1.46s                               | 100              | 17393           |</pre>"
      ],
      "text/plain": [
       "| 1.46s                               | 100              | 17393           |"
      ]
     },
     "metadata": {},
     "output_type": "display_data"
    },
    {
     "data": {
      "text/html": [
       "<pre>+-------------------------------------+------------------+-----------------+</pre>"
      ],
      "text/plain": [
       "+-------------------------------------+------------------+-----------------+"
      ]
     },
     "metadata": {},
     "output_type": "display_data"
    },
    {
     "data": {
      "text/html": [
       "<pre>Finalizing lookup tables.</pre>"
      ],
      "text/plain": [
       "Finalizing lookup tables."
      ]
     },
     "metadata": {},
     "output_type": "display_data"
    },
    {
     "data": {
      "text/html": [
       "<pre>Generating candidate set for working with new users.</pre>"
      ],
      "text/plain": [
       "Generating candidate set for working with new users."
      ]
     },
     "metadata": {},
     "output_type": "display_data"
    },
    {
     "data": {
      "text/html": [
       "<pre>Finished training in 1.56315s</pre>"
      ],
      "text/plain": [
       "Finished training in 1.56315s"
      ]
     },
     "metadata": {},
     "output_type": "display_data"
    },
    {
     "data": {
      "text/html": [
       "<pre>Recsys training: model = item_similarity</pre>"
      ],
      "text/plain": [
       "Recsys training: model = item_similarity"
      ]
     },
     "metadata": {},
     "output_type": "display_data"
    },
    {
     "data": {
      "text/html": [
       "<pre>Warning: Ignoring columns I_DATE, CAPSULE_TEXT_en, DISPPERIOD, VALIDPERIOD, large_area_name_en, ken_name_en, small_area_name_en, PRICE, TIME, PURCHASE_FLAG, SEX_ID, AGE;</pre>"
      ],
      "text/plain": [
       "Warning: Ignoring columns I_DATE, CAPSULE_TEXT_en, DISPPERIOD, VALIDPERIOD, large_area_name_en, ken_name_en, small_area_name_en, PRICE, TIME, PURCHASE_FLAG, SEX_ID, AGE;"
      ]
     },
     "metadata": {},
     "output_type": "display_data"
    },
    {
     "data": {
      "text/html": [
       "<pre>    To use one of these as a target column, set target = <column_name></pre>"
      ],
      "text/plain": [
       "    To use one of these as a target column, set target = <column_name>"
      ]
     },
     "metadata": {},
     "output_type": "display_data"
    },
    {
     "data": {
      "text/html": [
       "<pre>    and use a method that allows the use of a target.</pre>"
      ],
      "text/plain": [
       "    and use a method that allows the use of a target."
      ]
     },
     "metadata": {},
     "output_type": "display_data"
    },
    {
     "data": {
      "text/html": [
       "<pre>Preparing data set.</pre>"
      ],
      "text/plain": [
       "Preparing data set."
      ]
     },
     "metadata": {},
     "output_type": "display_data"
    },
    {
     "data": {
      "text/html": [
       "<pre>    Data has 267372 observations with 12284 users and 17393 items.</pre>"
      ],
      "text/plain": [
       "    Data has 267372 observations with 12284 users and 17393 items."
      ]
     },
     "metadata": {},
     "output_type": "display_data"
    },
    {
     "data": {
      "text/html": [
       "<pre>    Data prepared in: 0.726457s</pre>"
      ],
      "text/plain": [
       "    Data prepared in: 0.726457s"
      ]
     },
     "metadata": {},
     "output_type": "display_data"
    },
    {
     "data": {
      "text/html": [
       "<pre>Training model from provided data.</pre>"
      ],
      "text/plain": [
       "Training model from provided data."
      ]
     },
     "metadata": {},
     "output_type": "display_data"
    },
    {
     "data": {
      "text/html": [
       "<pre>Gathering per-item and per-user statistics.</pre>"
      ],
      "text/plain": [
       "Gathering per-item and per-user statistics."
      ]
     },
     "metadata": {},
     "output_type": "display_data"
    },
    {
     "data": {
      "text/html": [
       "<pre>+--------------------------------+------------+</pre>"
      ],
      "text/plain": [
       "+--------------------------------+------------+"
      ]
     },
     "metadata": {},
     "output_type": "display_data"
    },
    {
     "data": {
      "text/html": [
       "<pre>| Elapsed Time (Item Statistics) | % Complete |</pre>"
      ],
      "text/plain": [
       "| Elapsed Time (Item Statistics) | % Complete |"
      ]
     },
     "metadata": {},
     "output_type": "display_data"
    },
    {
     "data": {
      "text/html": [
       "<pre>+--------------------------------+------------+</pre>"
      ],
      "text/plain": [
       "+--------------------------------+------------+"
      ]
     },
     "metadata": {},
     "output_type": "display_data"
    },
    {
     "data": {
      "text/html": [
       "<pre>| 17.469ms                       | 16.25      |</pre>"
      ],
      "text/plain": [
       "| 17.469ms                       | 16.25      |"
      ]
     },
     "metadata": {},
     "output_type": "display_data"
    },
    {
     "data": {
      "text/html": [
       "<pre>| 26.04ms                        | 100        |</pre>"
      ],
      "text/plain": [
       "| 26.04ms                        | 100        |"
      ]
     },
     "metadata": {},
     "output_type": "display_data"
    },
    {
     "data": {
      "text/html": [
       "<pre>+--------------------------------+------------+</pre>"
      ],
      "text/plain": [
       "+--------------------------------+------------+"
      ]
     },
     "metadata": {},
     "output_type": "display_data"
    },
    {
     "data": {
      "text/html": [
       "<pre>Setting up lookup tables.</pre>"
      ],
      "text/plain": [
       "Setting up lookup tables."
      ]
     },
     "metadata": {},
     "output_type": "display_data"
    },
    {
     "data": {
      "text/html": [
       "<pre>Processing data in one pass using dense lookup tables.</pre>"
      ],
      "text/plain": [
       "Processing data in one pass using dense lookup tables."
      ]
     },
     "metadata": {},
     "output_type": "display_data"
    },
    {
     "data": {
      "text/html": [
       "<pre>+-------------------------------------+------------------+-----------------+</pre>"
      ],
      "text/plain": [
       "+-------------------------------------+------------------+-----------------+"
      ]
     },
     "metadata": {},
     "output_type": "display_data"
    },
    {
     "data": {
      "text/html": [
       "<pre>| Elapsed Time (Constructing Lookups) | Total % Complete | Items Processed |</pre>"
      ],
      "text/plain": [
       "| Elapsed Time (Constructing Lookups) | Total % Complete | Items Processed |"
      ]
     },
     "metadata": {},
     "output_type": "display_data"
    },
    {
     "data": {
      "text/html": [
       "<pre>+-------------------------------------+------------------+-----------------+</pre>"
      ],
      "text/plain": [
       "+-------------------------------------+------------------+-----------------+"
      ]
     },
     "metadata": {},
     "output_type": "display_data"
    },
    {
     "data": {
      "text/html": [
       "<pre>| 910.172ms                           | 0                | 0               |</pre>"
      ],
      "text/plain": [
       "| 910.172ms                           | 0                | 0               |"
      ]
     },
     "metadata": {},
     "output_type": "display_data"
    },
    {
     "data": {
      "text/html": [
       "<pre>| 1.80s                               | 100              | 17393           |</pre>"
      ],
      "text/plain": [
       "| 1.80s                               | 100              | 17393           |"
      ]
     },
     "metadata": {},
     "output_type": "display_data"
    },
    {
     "data": {
      "text/html": [
       "<pre>+-------------------------------------+------------------+-----------------+</pre>"
      ],
      "text/plain": [
       "+-------------------------------------+------------------+-----------------+"
      ]
     },
     "metadata": {},
     "output_type": "display_data"
    },
    {
     "data": {
      "text/html": [
       "<pre>Finalizing lookup tables.</pre>"
      ],
      "text/plain": [
       "Finalizing lookup tables."
      ]
     },
     "metadata": {},
     "output_type": "display_data"
    },
    {
     "data": {
      "text/html": [
       "<pre>Generating candidate set for working with new users.</pre>"
      ],
      "text/plain": [
       "Generating candidate set for working with new users."
      ]
     },
     "metadata": {},
     "output_type": "display_data"
    },
    {
     "data": {
      "text/html": [
       "<pre>Finished training in 1.95993s</pre>"
      ],
      "text/plain": [
       "Finished training in 1.95993s"
      ]
     },
     "metadata": {},
     "output_type": "display_data"
    },
    {
     "data": {
      "text/html": [
       "<pre>Recsys training: model = item_similarity</pre>"
      ],
      "text/plain": [
       "Recsys training: model = item_similarity"
      ]
     },
     "metadata": {},
     "output_type": "display_data"
    },
    {
     "data": {
      "text/html": [
       "<pre>Warning: Ignoring columns I_DATE, CAPSULE_TEXT_en, DISPPERIOD, VALIDPERIOD, large_area_name_en, ken_name_en, small_area_name_en, PRICE, TIME, PURCHASE_FLAG, SEX_ID, AGE;</pre>"
      ],
      "text/plain": [
       "Warning: Ignoring columns I_DATE, CAPSULE_TEXT_en, DISPPERIOD, VALIDPERIOD, large_area_name_en, ken_name_en, small_area_name_en, PRICE, TIME, PURCHASE_FLAG, SEX_ID, AGE;"
      ]
     },
     "metadata": {},
     "output_type": "display_data"
    },
    {
     "data": {
      "text/html": [
       "<pre>    To use one of these as a target column, set target = <column_name></pre>"
      ],
      "text/plain": [
       "    To use one of these as a target column, set target = <column_name>"
      ]
     },
     "metadata": {},
     "output_type": "display_data"
    },
    {
     "data": {
      "text/html": [
       "<pre>    and use a method that allows the use of a target.</pre>"
      ],
      "text/plain": [
       "    and use a method that allows the use of a target."
      ]
     },
     "metadata": {},
     "output_type": "display_data"
    },
    {
     "data": {
      "text/html": [
       "<pre>Preparing data set.</pre>"
      ],
      "text/plain": [
       "Preparing data set."
      ]
     },
     "metadata": {},
     "output_type": "display_data"
    },
    {
     "data": {
      "text/html": [
       "<pre>    Data has 267372 observations with 12284 users and 17393 items.</pre>"
      ],
      "text/plain": [
       "    Data has 267372 observations with 12284 users and 17393 items."
      ]
     },
     "metadata": {},
     "output_type": "display_data"
    },
    {
     "data": {
      "text/html": [
       "<pre>    Data prepared in: 0.433081s</pre>"
      ],
      "text/plain": [
       "    Data prepared in: 0.433081s"
      ]
     },
     "metadata": {},
     "output_type": "display_data"
    },
    {
     "data": {
      "text/html": [
       "<pre>Training model from provided data.</pre>"
      ],
      "text/plain": [
       "Training model from provided data."
      ]
     },
     "metadata": {},
     "output_type": "display_data"
    },
    {
     "data": {
      "text/html": [
       "<pre>Gathering per-item and per-user statistics.</pre>"
      ],
      "text/plain": [
       "Gathering per-item and per-user statistics."
      ]
     },
     "metadata": {},
     "output_type": "display_data"
    },
    {
     "data": {
      "text/html": [
       "<pre>+--------------------------------+------------+</pre>"
      ],
      "text/plain": [
       "+--------------------------------+------------+"
      ]
     },
     "metadata": {},
     "output_type": "display_data"
    },
    {
     "data": {
      "text/html": [
       "<pre>| Elapsed Time (Item Statistics) | % Complete |</pre>"
      ],
      "text/plain": [
       "| Elapsed Time (Item Statistics) | % Complete |"
      ]
     },
     "metadata": {},
     "output_type": "display_data"
    },
    {
     "data": {
      "text/html": [
       "<pre>+--------------------------------+------------+</pre>"
      ],
      "text/plain": [
       "+--------------------------------+------------+"
      ]
     },
     "metadata": {},
     "output_type": "display_data"
    },
    {
     "data": {
      "text/html": [
       "<pre>| 2.827ms                        | 24.25      |</pre>"
      ],
      "text/plain": [
       "| 2.827ms                        | 24.25      |"
      ]
     },
     "metadata": {},
     "output_type": "display_data"
    },
    {
     "data": {
      "text/html": [
       "<pre>| 8.059ms                        | 100        |</pre>"
      ],
      "text/plain": [
       "| 8.059ms                        | 100        |"
      ]
     },
     "metadata": {},
     "output_type": "display_data"
    },
    {
     "data": {
      "text/html": [
       "<pre>+--------------------------------+------------+</pre>"
      ],
      "text/plain": [
       "+--------------------------------+------------+"
      ]
     },
     "metadata": {},
     "output_type": "display_data"
    },
    {
     "data": {
      "text/html": [
       "<pre>Setting up lookup tables.</pre>"
      ],
      "text/plain": [
       "Setting up lookup tables."
      ]
     },
     "metadata": {},
     "output_type": "display_data"
    },
    {
     "data": {
      "text/html": [
       "<pre>Processing data in one pass using dense lookup tables.</pre>"
      ],
      "text/plain": [
       "Processing data in one pass using dense lookup tables."
      ]
     },
     "metadata": {},
     "output_type": "display_data"
    },
    {
     "data": {
      "text/html": [
       "<pre>+-------------------------------------+------------------+-----------------+</pre>"
      ],
      "text/plain": [
       "+-------------------------------------+------------------+-----------------+"
      ]
     },
     "metadata": {},
     "output_type": "display_data"
    },
    {
     "data": {
      "text/html": [
       "<pre>| Elapsed Time (Constructing Lookups) | Total % Complete | Items Processed |</pre>"
      ],
      "text/plain": [
       "| Elapsed Time (Constructing Lookups) | Total % Complete | Items Processed |"
      ]
     },
     "metadata": {},
     "output_type": "display_data"
    },
    {
     "data": {
      "text/html": [
       "<pre>+-------------------------------------+------------------+-----------------+</pre>"
      ],
      "text/plain": [
       "+-------------------------------------+------------------+-----------------+"
      ]
     },
     "metadata": {},
     "output_type": "display_data"
    },
    {
     "data": {
      "text/html": [
       "<pre>| 870.461ms                           | 0                | 0               |</pre>"
      ],
      "text/plain": [
       "| 870.461ms                           | 0                | 0               |"
      ]
     },
     "metadata": {},
     "output_type": "display_data"
    },
    {
     "data": {
      "text/html": [
       "<pre>| 1.81s                               | 100              | 17393           |</pre>"
      ],
      "text/plain": [
       "| 1.81s                               | 100              | 17393           |"
      ]
     },
     "metadata": {},
     "output_type": "display_data"
    },
    {
     "data": {
      "text/html": [
       "<pre>+-------------------------------------+------------------+-----------------+</pre>"
      ],
      "text/plain": [
       "+-------------------------------------+------------------+-----------------+"
      ]
     },
     "metadata": {},
     "output_type": "display_data"
    },
    {
     "data": {
      "text/html": [
       "<pre>Finalizing lookup tables.</pre>"
      ],
      "text/plain": [
       "Finalizing lookup tables."
      ]
     },
     "metadata": {},
     "output_type": "display_data"
    },
    {
     "data": {
      "text/html": [
       "<pre>Generating candidate set for working with new users.</pre>"
      ],
      "text/plain": [
       "Generating candidate set for working with new users."
      ]
     },
     "metadata": {},
     "output_type": "display_data"
    },
    {
     "data": {
      "text/html": [
       "<pre>Finished training in 1.89597s</pre>"
      ],
      "text/plain": [
       "Finished training in 1.89597s"
      ]
     },
     "metadata": {},
     "output_type": "display_data"
    },
    {
     "name": "stdout",
     "output_type": "stream",
     "text": [
      "PROGRESS: Evaluate model M0\n"
     ]
    },
    {
     "data": {
      "text/html": [
       "<pre>recommendations finished on 1000/10499 queries. users per second: 19779.7</pre>"
      ],
      "text/plain": [
       "recommendations finished on 1000/10499 queries. users per second: 19779.7"
      ]
     },
     "metadata": {},
     "output_type": "display_data"
    },
    {
     "data": {
      "text/html": [
       "<pre>recommendations finished on 2000/10499 queries. users per second: 19586.9</pre>"
      ],
      "text/plain": [
       "recommendations finished on 2000/10499 queries. users per second: 19586.9"
      ]
     },
     "metadata": {},
     "output_type": "display_data"
    },
    {
     "data": {
      "text/html": [
       "<pre>recommendations finished on 3000/10499 queries. users per second: 19620</pre>"
      ],
      "text/plain": [
       "recommendations finished on 3000/10499 queries. users per second: 19620"
      ]
     },
     "metadata": {},
     "output_type": "display_data"
    },
    {
     "data": {
      "text/html": [
       "<pre>recommendations finished on 4000/10499 queries. users per second: 19332</pre>"
      ],
      "text/plain": [
       "recommendations finished on 4000/10499 queries. users per second: 19332"
      ]
     },
     "metadata": {},
     "output_type": "display_data"
    },
    {
     "data": {
      "text/html": [
       "<pre>recommendations finished on 5000/10499 queries. users per second: 19466.3</pre>"
      ],
      "text/plain": [
       "recommendations finished on 5000/10499 queries. users per second: 19466.3"
      ]
     },
     "metadata": {},
     "output_type": "display_data"
    },
    {
     "data": {
      "text/html": [
       "<pre>recommendations finished on 6000/10499 queries. users per second: 19591.6</pre>"
      ],
      "text/plain": [
       "recommendations finished on 6000/10499 queries. users per second: 19591.6"
      ]
     },
     "metadata": {},
     "output_type": "display_data"
    },
    {
     "data": {
      "text/html": [
       "<pre>recommendations finished on 7000/10499 queries. users per second: 19273.1</pre>"
      ],
      "text/plain": [
       "recommendations finished on 7000/10499 queries. users per second: 19273.1"
      ]
     },
     "metadata": {},
     "output_type": "display_data"
    },
    {
     "data": {
      "text/html": [
       "<pre>recommendations finished on 8000/10499 queries. users per second: 18877.8</pre>"
      ],
      "text/plain": [
       "recommendations finished on 8000/10499 queries. users per second: 18877.8"
      ]
     },
     "metadata": {},
     "output_type": "display_data"
    },
    {
     "data": {
      "text/html": [
       "<pre>recommendations finished on 9000/10499 queries. users per second: 18465.1</pre>"
      ],
      "text/plain": [
       "recommendations finished on 9000/10499 queries. users per second: 18465.1"
      ]
     },
     "metadata": {},
     "output_type": "display_data"
    },
    {
     "data": {
      "text/html": [
       "<pre>recommendations finished on 10000/10499 queries. users per second: 16604.5</pre>"
      ],
      "text/plain": [
       "recommendations finished on 10000/10499 queries. users per second: 16604.5"
      ]
     },
     "metadata": {},
     "output_type": "display_data"
    },
    {
     "name": "stdout",
     "output_type": "stream",
     "text": [
      "\n",
      "Precision and recall summary statistics by cutoff\n",
      "+--------+------------------+------------------+\n",
      "| cutoff |  mean_precision  |   mean_recall    |\n",
      "+--------+------------------+------------------+\n",
      "|   1    | 0.00552433565101 | 0.00053735694776 |\n",
      "|   2    | 0.00723878464616 | 0.00121531045514 |\n",
      "|   3    | 0.00638156014859 | 0.00161920210013 |\n",
      "|   4    | 0.0058338889418  | 0.00198985708162 |\n",
      "|   5    | 0.00548623678446 | 0.00221516213813 |\n",
      "|   6    | 0.00550846112328 | 0.00256453967069 |\n",
      "|   7    | 0.00536105479433 | 0.00287752921674 |\n",
      "|   8    | 0.00514334698543 | 0.00310491813803 |\n",
      "|   9    | 0.00556666772497 | 0.00466259287144 |\n",
      "|   10   | 0.00571482998381 | 0.00521902647792 |\n",
      "+--------+------------------+------------------+\n",
      "[10 rows x 3 columns]\n",
      "\n",
      "PROGRESS: Evaluate model M1\n"
     ]
    },
    {
     "data": {
      "text/html": [
       "<pre>recommendations finished on 1000/10499 queries. users per second: 10496.4</pre>"
      ],
      "text/plain": [
       "recommendations finished on 1000/10499 queries. users per second: 10496.4"
      ]
     },
     "metadata": {},
     "output_type": "display_data"
    },
    {
     "data": {
      "text/html": [
       "<pre>recommendations finished on 2000/10499 queries. users per second: 12017.2</pre>"
      ],
      "text/plain": [
       "recommendations finished on 2000/10499 queries. users per second: 12017.2"
      ]
     },
     "metadata": {},
     "output_type": "display_data"
    },
    {
     "data": {
      "text/html": [
       "<pre>recommendations finished on 3000/10499 queries. users per second: 12936.5</pre>"
      ],
      "text/plain": [
       "recommendations finished on 3000/10499 queries. users per second: 12936.5"
      ]
     },
     "metadata": {},
     "output_type": "display_data"
    },
    {
     "data": {
      "text/html": [
       "<pre>recommendations finished on 4000/10499 queries. users per second: 13452.5</pre>"
      ],
      "text/plain": [
       "recommendations finished on 4000/10499 queries. users per second: 13452.5"
      ]
     },
     "metadata": {},
     "output_type": "display_data"
    },
    {
     "data": {
      "text/html": [
       "<pre>recommendations finished on 5000/10499 queries. users per second: 13769.2</pre>"
      ],
      "text/plain": [
       "recommendations finished on 5000/10499 queries. users per second: 13769.2"
      ]
     },
     "metadata": {},
     "output_type": "display_data"
    },
    {
     "data": {
      "text/html": [
       "<pre>recommendations finished on 6000/10499 queries. users per second: 13963.7</pre>"
      ],
      "text/plain": [
       "recommendations finished on 6000/10499 queries. users per second: 13963.7"
      ]
     },
     "metadata": {},
     "output_type": "display_data"
    },
    {
     "data": {
      "text/html": [
       "<pre>recommendations finished on 7000/10499 queries. users per second: 14005.5</pre>"
      ],
      "text/plain": [
       "recommendations finished on 7000/10499 queries. users per second: 14005.5"
      ]
     },
     "metadata": {},
     "output_type": "display_data"
    },
    {
     "data": {
      "text/html": [
       "<pre>recommendations finished on 8000/10499 queries. users per second: 14095.6</pre>"
      ],
      "text/plain": [
       "recommendations finished on 8000/10499 queries. users per second: 14095.6"
      ]
     },
     "metadata": {},
     "output_type": "display_data"
    },
    {
     "data": {
      "text/html": [
       "<pre>recommendations finished on 9000/10499 queries. users per second: 14078</pre>"
      ],
      "text/plain": [
       "recommendations finished on 9000/10499 queries. users per second: 14078"
      ]
     },
     "metadata": {},
     "output_type": "display_data"
    },
    {
     "data": {
      "text/html": [
       "<pre>recommendations finished on 10000/10499 queries. users per second: 13088.6</pre>"
      ],
      "text/plain": [
       "recommendations finished on 10000/10499 queries. users per second: 13088.6"
      ]
     },
     "metadata": {},
     "output_type": "display_data"
    },
    {
     "name": "stdout",
     "output_type": "stream",
     "text": [
      "\n",
      "Precision and recall summary statistics by cutoff\n",
      "+--------+-------------------+------------------+\n",
      "| cutoff |   mean_precision  |   mean_recall    |\n",
      "+--------+-------------------+------------------+\n",
      "|   1    |        0.0        |       0.0        |\n",
      "|   2    |        0.0        |       0.0        |\n",
      "|   3    |        0.0        |       0.0        |\n",
      "|   4    |        0.0        |       0.0        |\n",
      "|   5    |        0.0        |       0.0        |\n",
      "|   6    |        0.0        |       0.0        |\n",
      "|   7    |        0.0        |       0.0        |\n",
      "|   8    |        0.0        |       0.0        |\n",
      "|   9    | 0.000613815072335 | 0.00053735694776 |\n",
      "|   10   |  0.00144775692923 | 0.00121531045514 |\n",
      "+--------+-------------------+------------------+\n",
      "[10 rows x 3 columns]\n",
      "\n",
      "PROGRESS: Evaluate model M2\n"
     ]
    },
    {
     "data": {
      "text/html": [
       "<pre>recommendations finished on 1000/10499 queries. users per second: 23790.3</pre>"
      ],
      "text/plain": [
       "recommendations finished on 1000/10499 queries. users per second: 23790.3"
      ]
     },
     "metadata": {},
     "output_type": "display_data"
    },
    {
     "data": {
      "text/html": [
       "<pre>recommendations finished on 2000/10499 queries. users per second: 22166.8</pre>"
      ],
      "text/plain": [
       "recommendations finished on 2000/10499 queries. users per second: 22166.8"
      ]
     },
     "metadata": {},
     "output_type": "display_data"
    },
    {
     "data": {
      "text/html": [
       "<pre>recommendations finished on 3000/10499 queries. users per second: 21992.8</pre>"
      ],
      "text/plain": [
       "recommendations finished on 3000/10499 queries. users per second: 21992.8"
      ]
     },
     "metadata": {},
     "output_type": "display_data"
    },
    {
     "data": {
      "text/html": [
       "<pre>recommendations finished on 4000/10499 queries. users per second: 21426.7</pre>"
      ],
      "text/plain": [
       "recommendations finished on 4000/10499 queries. users per second: 21426.7"
      ]
     },
     "metadata": {},
     "output_type": "display_data"
    },
    {
     "data": {
      "text/html": [
       "<pre>recommendations finished on 5000/10499 queries. users per second: 21107.6</pre>"
      ],
      "text/plain": [
       "recommendations finished on 5000/10499 queries. users per second: 21107.6"
      ]
     },
     "metadata": {},
     "output_type": "display_data"
    },
    {
     "data": {
      "text/html": [
       "<pre>recommendations finished on 6000/10499 queries. users per second: 20500.5</pre>"
      ],
      "text/plain": [
       "recommendations finished on 6000/10499 queries. users per second: 20500.5"
      ]
     },
     "metadata": {},
     "output_type": "display_data"
    },
    {
     "data": {
      "text/html": [
       "<pre>recommendations finished on 7000/10499 queries. users per second: 20272.1</pre>"
      ],
      "text/plain": [
       "recommendations finished on 7000/10499 queries. users per second: 20272.1"
      ]
     },
     "metadata": {},
     "output_type": "display_data"
    },
    {
     "data": {
      "text/html": [
       "<pre>recommendations finished on 8000/10499 queries. users per second: 20026.5</pre>"
      ],
      "text/plain": [
       "recommendations finished on 8000/10499 queries. users per second: 20026.5"
      ]
     },
     "metadata": {},
     "output_type": "display_data"
    },
    {
     "data": {
      "text/html": [
       "<pre>recommendations finished on 9000/10499 queries. users per second: 19867.8</pre>"
      ],
      "text/plain": [
       "recommendations finished on 9000/10499 queries. users per second: 19867.8"
      ]
     },
     "metadata": {},
     "output_type": "display_data"
    },
    {
     "data": {
      "text/html": [
       "<pre>recommendations finished on 10000/10499 queries. users per second: 18751.5</pre>"
      ],
      "text/plain": [
       "recommendations finished on 10000/10499 queries. users per second: 18751.5"
      ]
     },
     "metadata": {},
     "output_type": "display_data"
    },
    {
     "name": "stdout",
     "output_type": "stream",
     "text": [
      "\n",
      "Precision and recall summary statistics by cutoff\n",
      "+--------+------------------+-------------------+\n",
      "| cutoff |  mean_precision  |    mean_recall    |\n",
      "+--------+------------------+-------------------+\n",
      "|   1    | 0.0089532336413  | 0.000677953507375 |\n",
      "|   2    | 0.00728640822936 |  0.00121781695951 |\n",
      "|   3    | 0.00625456392672 |  0.0014456285204  |\n",
      "|   4    | 0.0060958186494  |  0.00179500605296 |\n",
      "|   5    | 0.00577197828365 |  0.00210799559901 |\n",
      "|   6    | 0.00541321395688 |  0.0023353845203  |\n",
      "|   7    | 0.00564679629352 |  0.00289181812678 |\n",
      "|   8    | 0.00551242975521 |  0.0032932032674  |\n",
      "|   9    | 0.00536559037369 |  0.00366385824889 |\n",
      "|   10   | 0.00513382226879 |  0.0038966591269  |\n",
      "+--------+------------------+-------------------+\n",
      "[10 rows x 3 columns]\n",
      "\n",
      "Model compare metric: precision_recall\n",
      "Canvas is updated and available in a tab in the default browser.\n"
     ]
    }
   ],
   "source": [
    "if __name__ == '__main__':\n",
    "    dfusers = pd.read_csv('users_list_en.csv')\n",
    "    dfusers = pd.read_csv('users_list_en.csv')\n",
    "    dfusers = dfusers[['SEX_ID', 'AGE','USER_ID_hash']]\n",
    "    \n",
    "    dfcoupvisit = pd.read_csv('coupon_visit_train_en.csv')\n",
    "    dfcoupvisit = dfcoupvisit[['PURCHASE_FLAG','COUPON_ID_hash']].drop_duplicates()\n",
    "    \n",
    "    dfcoupdetail = pd.read_csv('coupon_detail_train_en.csv')\n",
    "    dfcoupdetail = dfcoupdetail[['I_DATE','USER_ID_hash', 'COUPON_ID_hash']]\n",
    "    \n",
    "    dfcouplist = pd.read_csv('coupon_list_train_en.csv')\n",
    "    dfcouplist = dfcouplist[['CAPSULE_TEXT_en','PRICE_RATE','DISCOUNT_PRICE','DISPPERIOD','VALIDPERIOD','USABLE_DATE_MO','USABLE_DATE_TUE','USABLE_DATE_WED','USABLE_DATE_THU','USABLE_DATE_FRI','USABLE_DATE_SAT','USABLE_DATE_SUN','USABLE_DATE_HOLIDAY','USABLE_DATE_BEFORE_HOLIDAY','large_area_name_en','ken_name_en','small_area_name_en','COUPON_ID_hash']]\n",
    "\n",
    "    dfcouplist['PRICE']=100*dfcouplist['DISCOUNT_PRICE']/dfcouplist['PRICE_RATE']\n",
    "    del dfcouplist['DISCOUNT_PRICE']\n",
    "    del dfcouplist['PRICE_RATE']    \n",
    "    dfcouplist['TIME']=(dfcouplist['USABLE_DATE_MO']+dfcouplist['USABLE_DATE_TUE']+dfcouplist['USABLE_DATE_WED']\n",
    "                        +dfcouplist['USABLE_DATE_THU']+dfcouplist['USABLE_DATE_FRI']+dfcouplist['USABLE_DATE_SAT']\n",
    "                        +dfcouplist['USABLE_DATE_SUN']+dfcouplist['USABLE_DATE_HOLIDAY']+dfcouplist['USABLE_DATE_BEFORE_HOLIDAY'])/9\n",
    "    del dfcouplist['USABLE_DATE_MO']    \n",
    "    del dfcouplist['USABLE_DATE_TUE']    \n",
    "    del dfcouplist['USABLE_DATE_WED']    \n",
    "    del dfcouplist['USABLE_DATE_THU']    \n",
    "    del dfcouplist['USABLE_DATE_FRI']    \n",
    "    del dfcouplist['USABLE_DATE_SAT']    \n",
    "    del dfcouplist['USABLE_DATE_SUN']    \n",
    "    del dfcouplist['USABLE_DATE_HOLIDAY']    \n",
    "    del dfcouplist['USABLE_DATE_BEFORE_HOLIDAY']    \n",
    "    \n",
    "    \n",
    "    \n",
    "    df1 = pd.merge(dfcoupdetail, dfcouplist,\n",
    "                       left_on='COUPON_ID_hash', right_on='COUPON_ID_hash')\n",
    "    df2 = pd.merge(df1, dfcoupvisit,on='COUPON_ID_hash')\n",
    "\n",
    "    df = pd.merge(df2, dfusers, on='USER_ID_hash')\n",
    "\n",
    "    df['I_DATE'] = df['I_DATE'].fillna('N/A').astype(str)\n",
    "    df['USER_ID_hash'] = df['USER_ID_hash'].fillna('N/A').astype(str)\n",
    "    df['COUPON_ID_hash'] = df['COUPON_ID_hash'].fillna('N/A').astype(str)\n",
    "    \n",
    "    df['CAPSULE_TEXT_en'] = df['CAPSULE_TEXT_en'].fillna('N/A').astype(str)\n",
    "\n",
    "    df['DISPPERIOD'] = df['DISPPERIOD'].fillna(0).astype(int)\n",
    "    df['VALIDPERIOD'] = df['VALIDPERIOD'].fillna(0).astype(int)\n",
    "    df['PRICE'] = df['PRICE'].fillna(0).astype(int)\n",
    "    df['TIME'] = df['TIME'].fillna(0).astype(int)\n",
    "    \n",
    "    df['large_area_name_en'] = df['large_area_name_en'].fillna('N/A').astype(str)\n",
    "    df['ken_name_en'] = df['ken_name_en'].fillna('N/A').astype(str)\n",
    "    df['small_area_name_en'] = df['small_area_name_en'].fillna('N/A').astype(str)\n",
    "    \n",
    "    df['SEX_ID'] = df['SEX_ID'].fillna('N/A').astype(str)\n",
    "    df['AGE'] = df['AGE'].fillna(0).astype(int)\n",
    "\n",
    "    dfbydate=df.sort_values(by=['I_DATE'])\n",
    "\n",
    "\n",
    "    (n,m)=dfbydate.shape\n",
    "    print('dimensions of df:',n,m)\n",
    "    fortrain=int(n*8/10)\n",
    "    fortest=n-fortrain\n",
    "    print('for training we use :',fortrain)\n",
    "    print('for test: ',fortest)\n",
    "\n",
    "    train=df.iloc[0:fortrain]\n",
    "    test=df.iloc[fortrain:n]\n",
    "    print(train.shape,test.shape)\n",
    "\n",
    "\n",
    "    train_data = graphlab.SFrame(train)\n",
    "    test_data = graphlab.SFrame(test)\n",
    "\n",
    "    print(train_data.head())\n",
    "    item_sim_model_pearson = graphlab.item_similarity_recommender.create(train_data, user_id='USER_ID_hash', item_id='COUPON_ID_hash', similarity_type='pearson')\n",
    "    item_sim_model_cosine = graphlab.item_similarity_recommender.create(train_data, user_id='USER_ID_hash', item_id='COUPON_ID_hash', similarity_type='cosine')\n",
    "    item_sim_model_jaccard = graphlab.item_similarity_recommender.create(train_data, user_id='USER_ID_hash', item_id='COUPON_ID_hash', similarity_type='jaccard')\n",
    "\n",
    "    model_performance = graphlab.compare(test_data, [item_sim_model_cosine, item_sim_model_pearson,item_sim_model_jaccard])\n",
    "    graphlab.show_comparison(model_performance,[item_sim_model_cosine, item_sim_model_pearson,item_sim_model_jaccard])"
   ]
  },
  {
   "cell_type": "code",
   "execution_count": null,
   "metadata": {
    "collapsed": true
   },
   "outputs": [],
   "source": []
  }
 ],
 "metadata": {
  "kernelspec": {
   "display_name": "Python 2",
   "language": "python",
   "name": "python2"
  },
  "language_info": {
   "codemirror_mode": {
    "name": "ipython",
    "version": 2
   },
   "file_extension": ".py",
   "mimetype": "text/x-python",
   "name": "python",
   "nbconvert_exporter": "python",
   "pygments_lexer": "ipython2",
   "version": "2.7.13"
  }
 },
 "nbformat": 4,
 "nbformat_minor": 0
}
